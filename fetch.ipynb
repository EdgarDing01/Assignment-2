{
 "cells": [
  {
   "cell_type": "code",
   "execution_count": null,
   "id": "99727d79",
   "metadata": {},
   "outputs": [
    {
     "name": "stdout",
     "output_type": "stream",
     "text": [
      "Fetching GDP_USD ...\n",
      "Fetching GDP_per_capita_USD ...\n",
      "Fetching GDP_growth_pct ...\n",
      "Fetching Inflation_CPI_pct ...\n",
      "Fetching Unemployment_pct ...\n",
      "Fetching Govt_debt_pct_GDP ...\n",
      "Fetching Current_account_pct_GDP ...\n",
      "Fetching Population_total ...\n",
      "✅ Saved: world_bank_macroeconomic_panel_1990_2022.csv\n"
     ]
    }
   ],
   "source": [
    "import pandas as pd\n",
    "import requests\n",
    "import time\n",
    "from functools import reduce\n",
    "\n",
    "indicators = {\n",
    "    'GDP_USD': 'NY.GDP.MKTP.CD',\n",
    "    'GDP_per_capita_USD': 'NY.GDP.PCAP.CD',\n",
    "    'GDP_growth_pct': 'NY.GDP.MKTP.KD.ZG',\n",
    "    'Inflation_CPI_pct': 'FP.CPI.TOTL.ZG',\n",
    "    'Unemployment_pct': 'SL.UEM.TOTL.ZS',\n",
    "    'Govt_debt_pct_GDP': 'GC.DOD.TOTL.GD.ZS',\n",
    "    'Current_account_pct_GDP': 'BN.CAB.XOKA.GD.ZS',\n",
    "    'Population_total': 'SP.POP.TOTL'\n",
    "}\n",
    "\n",
    "start_year, end_year = 1990, 2025\n",
    "\n",
    "def fetch_indicator(code):\n",
    "    url = f\"https://api.worldbank.org/v2/country/all/indicator/{code}\"\n",
    "    params = {'date': f\"{start_year}:{end_year}\", 'format': 'json', 'per_page': 20000}\n",
    "    resp = requests.get(url, params=params)\n",
    "    resp.raise_for_status()\n",
    "    data = resp.json()\n",
    "\n",
    "    if len(data) < 2 or data[1] is None:\n",
    "        return pd.DataFrame()\n",
    "\n",
    "    df = pd.DataFrame(data[1])\n",
    "\n",
    "    # Some \"country\" fields are nested dictionaries — extract \"value\"\n",
    "    df[\"CountryName\"] = df[\"country\"].apply(lambda x: x[\"value\"] if isinstance(x, dict) and \"value\" in x else None)\n",
    "    df[\"CountryCode\"] = df[\"countryiso3code\"]\n",
    "    df[\"Year\"] = pd.to_numeric(df[\"date\"], errors=\"coerce\").astype(\"Int64\")\n",
    "    df = df[[\"CountryCode\", \"CountryName\", \"Year\", \"value\"]]\n",
    "    df.rename(columns={\"value\": code}, inplace=True)\n",
    "\n",
    "    return df\n",
    "\n",
    "dfs = []\n",
    "for name, code in indicators.items():\n",
    "    print(f\"Fetching {name} ...\")\n",
    "    df_i = fetch_indicator(code)\n",
    "    df_i.rename(columns={code: name}, inplace=True)\n",
    "    dfs.append(df_i)\n",
    "    time.sleep(1)\n",
    "\n",
    "merged = reduce(lambda l, r: pd.merge(l, r, on=['CountryCode','CountryName','Year'], how='outer'), dfs)\n",
    "merged = merged[(merged['Year'] >= start_year) & (merged['Year'] <= end_year)]\n",
    "merged = merged[~merged['CountryCode'].isin(['WLD','EAS','ECS','LCN','MEA','NAC','SAS','SSF','EUU'])]\n",
    "\n",
    "merged.to_csv(\"world_bank_macroeconomic_panel_1990_2025.csv\", index=False)\n",
    "print(\"✅ Saved: world_bank_macroeconomic_panel_1990_2025.csv\")"
   ]
  }
 ],
 "metadata": {
  "kernelspec": {
   "display_name": "base",
   "language": "python",
   "name": "python3"
  },
  "language_info": {
   "codemirror_mode": {
    "name": "ipython",
    "version": 3
   },
   "file_extension": ".py",
   "mimetype": "text/x-python",
   "name": "python",
   "nbconvert_exporter": "python",
   "pygments_lexer": "ipython3",
   "version": "3.13.5"
  }
 },
 "nbformat": 4,
 "nbformat_minor": 5
}
